{
  "nbformat": 4,
  "nbformat_minor": 0,
  "metadata": {
    "interpreter": {
      "hash": "0b7cc219b1100901b1e49cc26b8bb22d1f9f8cc69348aa6f92277d1c1c9668d3"
    },
    "kernelspec": {
      "display_name": "Python 3.8.2 64-bit ('venv': venv)",
      "language": "python",
      "name": "python3"
    },
    "language_info": {
      "codemirror_mode": {
        "name": "ipython",
        "version": 3
      },
      "file_extension": ".py",
      "mimetype": "text/x-python",
      "name": "python",
      "nbconvert_exporter": "python",
      "pygments_lexer": "ipython3",
      "version": "3.8.11"
    },
    "orig_nbformat": 4,
    "colab": {
      "name": "pipeline.ipynb",
      "provenance": [],
      "collapsed_sections": []
    },
    "accelerator": "GPU"
  },
  "cells": [
    {
      "cell_type": "code",
      "metadata": {
        "id": "czlnmdXNdelL"
      },
      "source": [
        "import os\n",
        "import random\n",
        "import tensorflow as tf\n",
        "\n",
        "from pathlib import Path\n",
        "from tensorflow.keras.applications import resnet50\n",
        "from tensorflow.keras import (Sequential, preprocessing, layers, optimizers, Model)"
      ],
      "execution_count": 2,
      "outputs": []
    },
    {
      "cell_type": "code",
      "metadata": {
        "id": "1O3ge0OXdelN"
      },
      "source": [
        "# setting the paths\n",
        "DATA_DIRECTORY = Path('/content/drive/MyDrive/data/flowers_dataset')\n",
        "TRAIN_DATA = DATA_DIRECTORY / \"train\"\n",
        "TEST_DATA = DATA_DIRECTORY / \"test\"\n",
        "\n",
        "# setting hyperparameters\n",
        "IMAGE_SIZE = 150\n",
        "BATCH_SIZE = 32\n",
        "TRAIN_RATIO = 0.8\n",
        "LR_RATE = 1e-3\n",
        "EPOCHS = 10"
      ],
      "execution_count": 3,
      "outputs": []
    },
    {
      "cell_type": "code",
      "metadata": {
        "id": "m4AIdvMmdelO"
      },
      "source": [
        "def parse_image(filename):\n",
        "    \"\"\"\n",
        "    Takes in the filename, reads, decodes, resizes and returns the image.\n",
        "    \"\"\"\n",
        "    \n",
        "    image = tf.io.read_file(filename)\n",
        "    image = tf.image.decode_jpeg(image, channels=3)\n",
        "    image = tf.image.resize(image, [IMAGE_SIZE, IMAGE_SIZE])\n",
        "    return image"
      ],
      "execution_count": 4,
      "outputs": []
    },
    {
      "cell_type": "code",
      "metadata": {
        "id": "Q1q9Vz-7delO"
      },
      "source": [
        "def _datasets(data_directory):\n",
        "    \"\"\"\n",
        "    Takes in the data directory with class directories and return the tf datasets with number of classes.\n",
        "    \"\"\"\n",
        "    \n",
        "    # getting all the class names\n",
        "    classes = os.listdir(data_directory)\n",
        "    \n",
        "    if \".DS_Store\" in classes:\n",
        "        classes.remove(\".DS_Store\")\n",
        "\n",
        "    # fetching all the image filenames\n",
        "    filenames = list(data_directory.glob(\"**/*.jpg\"))\n",
        "    random.shuffle(filenames)\n",
        "\n",
        "    # creating and one-hot encoding the target labels\n",
        "    labels = [classes.index(str(name).split(\"/\")[-2]) for name in filenames]\n",
        "    num_classes = max(labels) + 1\n",
        "    labels_onehot = tf.one_hot(labels, num_classes)\n",
        "\n",
        "    filenames = [str(name) for name in filenames]\n",
        "\n",
        "    # creating the tf dataset from the filenames\n",
        "    files_dataset = tf.data.Dataset.from_tensor_slices(filenames)\n",
        "\n",
        "    # getting the image count\n",
        "    image_count = files_dataset.cardinality().numpy()\n",
        "    \n",
        "    # reading the images\n",
        "    images_dataset = files_dataset.map(parse_image, num_parallel_calls=tf.data.experimental.AUTOTUNE)\n",
        "\n",
        "    # creating the tf dataset for the labels\n",
        "    labels_dataset = tf.data.Dataset.from_tensor_slices(labels_onehot)\n",
        "\n",
        "    # combining the images, labels and shuffling\n",
        "    dataset = tf.data.Dataset.zip((images_dataset, labels_dataset))\n",
        "    dataset = dataset.shuffle(buffer_size=50)\n",
        "\n",
        "    # splitting the data into train and validation set\n",
        "    train_dataset = dataset.take(image_count * TRAIN_RATIO)\n",
        "    validation_dataset = dataset.skip(image_count * TRAIN_RATIO)\n",
        "\n",
        "    # batching and prefetching\n",
        "    train_dataset = train_dataset.batch(BATCH_SIZE)\n",
        "    train_dataset = train_dataset.prefetch(buffer_size=tf.data.experimental.AUTOTUNE)\n",
        "\n",
        "    validation_dataset = validation_dataset.batch(BATCH_SIZE)\n",
        "    validation_dataset = validation_dataset.prefetch(buffer_size=tf.data.experimental.AUTOTUNE)\n",
        "\n",
        "    return train_dataset, validation_dataset, num_classes"
      ],
      "execution_count": 5,
      "outputs": []
    },
    {
      "cell_type": "code",
      "metadata": {
        "id": "ASNi6mKodelP"
      },
      "source": [
        "def _model(num_classes):\n",
        "    \"\"\"\n",
        "    Takes in the number of classes and creates the CNN model.\n",
        "    \"\"\"\n",
        "\n",
        "    # creating a mini-model for data-augmentation\n",
        "    data_augmentation = Sequential([\n",
        "        layers.RandomFlip(\"horizontal\", input_shape=(IMAGE_SIZE, IMAGE_SIZE, 3), seed=32),\n",
        "        layers.RandomRotation(factor=(-0.1, 0.1), seed=42),\n",
        "        layers.RandomZoom(height_factor=(-0.1, 0.1), width_factor=(-0.1, 0.1), seed=42),\n",
        "        layers.RandomTranslation(height_factor=(-0.05, 0.05), width_factor=(-0.05, 0.05), seed=32)\n",
        "    ])\n",
        "\n",
        "    # base_model = resnet50.ResNet50(\n",
        "    #     weights=\"imagenet\",\n",
        "    #     include_top=False\n",
        "    # )\n",
        "\n",
        "    image_input = layers.Input(shape=(IMAGE_SIZE, IMAGE_SIZE, 3), name=\"image\")\n",
        "    x = data_augmentation(image_input)\n",
        "\n",
        "    # x = resnet50.preprocess_input(x)\n",
        "    # x = base_model(x, training=False)\n",
        "\n",
        "    x = layers.Conv2D(32, (5,5), activation='relu')(x)\n",
        "    x = layers.MaxPooling2D((2,2))(x)\n",
        "    x = layers.Conv2D(64, (3,3), activation='relu')(x)\n",
        "    x = layers.MaxPooling2D((2,2), (2,2))(x)\n",
        "    x = layers.Conv2D(96, (3,3), activation='relu')(x)\n",
        "    x = layers.MaxPooling2D((2,2), (2,2))(x)\n",
        "    x = layers.Conv2D(96, (3,3), activation='relu')(x)\n",
        "    x = layers.MaxPooling2D((2,2), (2,2))(x)\n",
        "    x = layers.Flatten()(x)\n",
        "    x = layers.Dense(512, activation=\"relu\")(x)\n",
        "    \n",
        "    outputs = layers.Dense(num_classes, activation=\"softmax\")(x)\n",
        "\n",
        "    model = Model(inputs=image_input, outputs=outputs)\n",
        "\n",
        "    print(model.summary())\n",
        "\n",
        "    return model"
      ],
      "execution_count": 37,
      "outputs": []
    },
    {
      "cell_type": "code",
      "metadata": {
        "id": "FNzCk4xJdelP"
      },
      "source": [
        "# fetching the datasets\n",
        "train_set, val_set, num_classes = _datasets(TRAIN_DATA)"
      ],
      "execution_count": 38,
      "outputs": []
    },
    {
      "cell_type": "code",
      "metadata": {
        "colab": {
          "base_uri": "https://localhost:8080/"
        },
        "id": "xomXBY_VdelQ",
        "outputId": "dedad5f2-458c-494e-8ca7-237bd99ebab2"
      },
      "source": [
        "model = _model(num_classes)"
      ],
      "execution_count": 39,
      "outputs": [
        {
          "output_type": "stream",
          "name": "stdout",
          "text": [
            "Model: \"model_3\"\n",
            "_________________________________________________________________\n",
            " Layer (type)                Output Shape              Param #   \n",
            "=================================================================\n",
            " image (InputLayer)          [(None, 150, 150, 3)]     0         \n",
            "                                                                 \n",
            " sequential_9 (Sequential)   (None, 150, 150, 3)       0         \n",
            "                                                                 \n",
            " conv2d_25 (Conv2D)          (None, 146, 146, 32)      2432      \n",
            "                                                                 \n",
            " max_pooling2d_24 (MaxPoolin  (None, 73, 73, 32)       0         \n",
            " g2D)                                                            \n",
            "                                                                 \n",
            " conv2d_26 (Conv2D)          (None, 71, 71, 64)        18496     \n",
            "                                                                 \n",
            " max_pooling2d_25 (MaxPoolin  (None, 35, 35, 64)       0         \n",
            " g2D)                                                            \n",
            "                                                                 \n",
            " conv2d_27 (Conv2D)          (None, 33, 33, 96)        55392     \n",
            "                                                                 \n",
            " max_pooling2d_26 (MaxPoolin  (None, 16, 16, 96)       0         \n",
            " g2D)                                                            \n",
            "                                                                 \n",
            " conv2d_28 (Conv2D)          (None, 14, 14, 96)        83040     \n",
            "                                                                 \n",
            " max_pooling2d_27 (MaxPoolin  (None, 7, 7, 96)         0         \n",
            " g2D)                                                            \n",
            "                                                                 \n",
            " flatten_3 (Flatten)         (None, 4704)              0         \n",
            "                                                                 \n",
            " dense_6 (Dense)             (None, 512)               2408960   \n",
            "                                                                 \n",
            " dense_7 (Dense)             (None, 5)                 2565      \n",
            "                                                                 \n",
            "=================================================================\n",
            "Total params: 2,570,885\n",
            "Trainable params: 2,570,885\n",
            "Non-trainable params: 0\n",
            "_________________________________________________________________\n",
            "None\n"
          ]
        }
      ]
    },
    {
      "cell_type": "code",
      "metadata": {
        "id": "sElhHUYXdelR"
      },
      "source": [
        "model.compile(optimizer=optimizers.Adam(learning_rate=LR_RATE), \n",
        "            loss=\"categorical_crossentropy\",\n",
        "            metrics=[\"accuracy\"]\n",
        ")"
      ],
      "execution_count": 40,
      "outputs": []
    },
    {
      "cell_type": "code",
      "metadata": {
        "colab": {
          "base_uri": "https://localhost:8080/"
        },
        "id": "o38clfKEdelR",
        "outputId": "0fcd6a6c-2485-450b-abe9-f48d63ab8482"
      },
      "source": [
        "model.fit(train_set, validation_data=val_set, epochs = 25, verbose=1)"
      ],
      "execution_count": 41,
      "outputs": [
        {
          "output_type": "stream",
          "name": "stdout",
          "text": [
            "Epoch 1/25\n",
            "68/68 [==============================] - 17s 218ms/step - loss: 7.8746 - accuracy: 0.2891 - val_loss: 1.4916 - val_accuracy: 0.3284\n",
            "Epoch 2/25\n",
            "68/68 [==============================] - 15s 218ms/step - loss: 1.4527 - accuracy: 0.3585 - val_loss: 1.4916 - val_accuracy: 0.3541\n",
            "Epoch 3/25\n",
            "68/68 [==============================] - 15s 219ms/step - loss: 1.3732 - accuracy: 0.4044 - val_loss: 1.6241 - val_accuracy: 0.3450\n",
            "Epoch 4/25\n",
            "68/68 [==============================] - 15s 221ms/step - loss: 1.2363 - accuracy: 0.4802 - val_loss: 1.4160 - val_accuracy: 0.4055\n",
            "Epoch 5/25\n",
            "68/68 [==============================] - 15s 218ms/step - loss: 1.1526 - accuracy: 0.5290 - val_loss: 1.0519 - val_accuracy: 0.5670\n",
            "Epoch 6/25\n",
            "68/68 [==============================] - 15s 219ms/step - loss: 1.0558 - accuracy: 0.5740 - val_loss: 1.0535 - val_accuracy: 0.5615\n",
            "Epoch 7/25\n",
            "68/68 [==============================] - 15s 221ms/step - loss: 1.0131 - accuracy: 0.5864 - val_loss: 1.1588 - val_accuracy: 0.5193\n",
            "Epoch 8/25\n",
            "68/68 [==============================] - 15s 219ms/step - loss: 0.9794 - accuracy: 0.6039 - val_loss: 1.1529 - val_accuracy: 0.5156\n",
            "Epoch 9/25\n",
            "68/68 [==============================] - 15s 216ms/step - loss: 0.9695 - accuracy: 0.6029 - val_loss: 1.0255 - val_accuracy: 0.5835\n",
            "Epoch 10/25\n",
            "68/68 [==============================] - 15s 221ms/step - loss: 0.8969 - accuracy: 0.6429 - val_loss: 0.9749 - val_accuracy: 0.6183\n",
            "Epoch 11/25\n",
            "68/68 [==============================] - 15s 219ms/step - loss: 0.8856 - accuracy: 0.6273 - val_loss: 0.9679 - val_accuracy: 0.6220\n",
            "Epoch 12/25\n",
            "68/68 [==============================] - 15s 220ms/step - loss: 0.8661 - accuracy: 0.6471 - val_loss: 0.9226 - val_accuracy: 0.6422\n",
            "Epoch 13/25\n",
            "68/68 [==============================] - 15s 221ms/step - loss: 0.8081 - accuracy: 0.6875 - val_loss: 0.9473 - val_accuracy: 0.6257\n",
            "Epoch 14/25\n",
            "68/68 [==============================] - 15s 218ms/step - loss: 0.8012 - accuracy: 0.6889 - val_loss: 0.8722 - val_accuracy: 0.6569\n",
            "Epoch 15/25\n",
            "68/68 [==============================] - 15s 221ms/step - loss: 0.7739 - accuracy: 0.6760 - val_loss: 0.9393 - val_accuracy: 0.6349\n",
            "Epoch 16/25\n",
            "68/68 [==============================] - 15s 221ms/step - loss: 0.7708 - accuracy: 0.6939 - val_loss: 0.8943 - val_accuracy: 0.6587\n",
            "Epoch 17/25\n",
            "68/68 [==============================] - 15s 219ms/step - loss: 0.7452 - accuracy: 0.7091 - val_loss: 0.9684 - val_accuracy: 0.6569\n",
            "Epoch 18/25\n",
            "68/68 [==============================] - 15s 220ms/step - loss: 0.7030 - accuracy: 0.7201 - val_loss: 0.9428 - val_accuracy: 0.6661\n",
            "Epoch 19/25\n",
            "68/68 [==============================] - 15s 217ms/step - loss: 0.7061 - accuracy: 0.7289 - val_loss: 0.9089 - val_accuracy: 0.6661\n",
            "Epoch 20/25\n",
            "68/68 [==============================] - 15s 220ms/step - loss: 0.6826 - accuracy: 0.7358 - val_loss: 0.8922 - val_accuracy: 0.6697\n",
            "Epoch 21/25\n",
            "68/68 [==============================] - 18s 266ms/step - loss: 0.6917 - accuracy: 0.7224 - val_loss: 0.8141 - val_accuracy: 0.6642\n",
            "Epoch 22/25\n",
            "68/68 [==============================] - 15s 221ms/step - loss: 0.6489 - accuracy: 0.7551 - val_loss: 0.8813 - val_accuracy: 0.6826\n",
            "Epoch 23/25\n",
            "68/68 [==============================] - 15s 223ms/step - loss: 0.6593 - accuracy: 0.7321 - val_loss: 0.9248 - val_accuracy: 0.6716\n",
            "Epoch 24/25\n",
            "68/68 [==============================] - 15s 225ms/step - loss: 0.6517 - accuracy: 0.7468 - val_loss: 0.8614 - val_accuracy: 0.6679\n",
            "Epoch 25/25\n",
            "68/68 [==============================] - 15s 220ms/step - loss: 0.5885 - accuracy: 0.7688 - val_loss: 0.8831 - val_accuracy: 0.6991\n"
          ]
        },
        {
          "output_type": "execute_result",
          "data": {
            "text/plain": [
              "<keras.callbacks.History at 0x7f4a466fbb90>"
            ]
          },
          "metadata": {},
          "execution_count": 41
        }
      ]
    }
  ]
}