{
  "nbformat": 4,
  "nbformat_minor": 0,
  "metadata": {
    "interpreter": {
      "hash": "0b7cc219b1100901b1e49cc26b8bb22d1f9f8cc69348aa6f92277d1c1c9668d3"
    },
    "kernelspec": {
      "display_name": "Python 3.8.2 64-bit ('venv': venv)",
      "language": "python",
      "name": "python3"
    },
    "language_info": {
      "codemirror_mode": {
        "name": "ipython",
        "version": 3
      },
      "file_extension": ".py",
      "mimetype": "text/x-python",
      "name": "python",
      "nbconvert_exporter": "python",
      "pygments_lexer": "ipython3",
      "version": "3.8.11"
    },
    "orig_nbformat": 4,
    "colab": {
      "name": "pipeline.ipynb",
      "provenance": []
    },
    "accelerator": "GPU"
  },
  "cells": [
    {
      "cell_type": "code",
      "metadata": {
        "id": "czlnmdXNdelL"
      },
      "source": [
        "import os\n",
        "import random\n",
        "import tensorflow as tf\n",
        "\n",
        "from pathlib import Path\n",
        "from tensorflow.keras.applications import resnet50\n",
        "from tensorflow.keras import (Sequential, preprocessing, layers, optimizers, Model)"
      ],
      "execution_count": 1,
      "outputs": []
    },
    {
      "cell_type": "code",
      "metadata": {
        "id": "1O3ge0OXdelN"
      },
      "source": [
        "DATA_DIRECTORY = Path('/content/drive/MyDrive/data/flowers_dataset')\n",
        "TRAIN_DATA = DATA_DIRECTORY / \"train\"\n",
        "TEST_DATA = DATA_DIRECTORY / \"test\"\n",
        "\n",
        "IMAGE_SIZE = 128\n",
        "BATCH_SIZE = 32\n",
        "TRAIN_RATIO = 0.8\n",
        "EPOCHS = 10"
      ],
      "execution_count": 2,
      "outputs": []
    },
    {
      "cell_type": "code",
      "metadata": {
        "id": "m4AIdvMmdelO"
      },
      "source": [
        "def parse_image(filename):\n",
        "    image = tf.io.read_file(filename)\n",
        "    image = tf.image.decode_jpeg(image, channels=3)\n",
        "    image = tf.image.resize(image, [IMAGE_SIZE, IMAGE_SIZE])\n",
        "    return image"
      ],
      "execution_count": 3,
      "outputs": []
    },
    {
      "cell_type": "code",
      "metadata": {
        "id": "Q1q9Vz-7delO"
      },
      "source": [
        "def _datasets(data_directory):\n",
        "    classes = os.listdir(data_directory)\n",
        "    \n",
        "    if \".DS_Store\" in classes:\n",
        "        classes.remove(\".DS_Store\")\n",
        "\n",
        "    filenames = list(data_directory.glob(\"**/*.jpg\"))\n",
        "    random.shuffle(filenames)\n",
        "\n",
        "    labels = [classes.index(str(name).split(\"/\")[-2]) for name in filenames]\n",
        "    num_classes = max(labels) + 1\n",
        "    labels_onehot = tf.one_hot(labels, num_classes)\n",
        "\n",
        "    filenames = [str(name) for name in filenames]\n",
        "\n",
        "    files_dataset = tf.data.Dataset.from_tensor_slices(filenames)\n",
        "    image_count = files_dataset.cardinality().numpy()\n",
        "\n",
        "    images_dataset = files_dataset.map(parse_image, num_parallel_calls=tf.data.experimental.AUTOTUNE)\n",
        "    labels_dataset = tf.data.Dataset.from_tensor_slices(labels_onehot)\n",
        "\n",
        "    dataset = tf.data.Dataset.zip((images_dataset, labels_dataset))\n",
        "    dataset = dataset.shuffle(buffer_size=50)\n",
        "\n",
        "    train_dataset = dataset.take(image_count * TRAIN_RATIO)\n",
        "    validation_dataset = dataset.skip(image_count * TRAIN_RATIO)\n",
        "\n",
        "    train_dataset = train_dataset.batch(BATCH_SIZE)\n",
        "    train_dataset = train_dataset.prefetch(buffer_size=tf.data.experimental.AUTOTUNE)\n",
        "\n",
        "    validation_dataset = validation_dataset.batch(BATCH_SIZE)\n",
        "    validation_dataset = validation_dataset.prefetch(buffer_size=tf.data.experimental.AUTOTUNE)\n",
        "\n",
        "    return train_dataset, validation_dataset, num_classes"
      ],
      "execution_count": 4,
      "outputs": []
    },
    {
      "cell_type": "code",
      "metadata": {
        "id": "ASNi6mKodelP"
      },
      "source": [
        "def _model(num_classes):\n",
        "    data_augmentation = Sequential([\n",
        "        layers.RandomFlip(\"horizontal\", input_shape=(IMAGE_SIZE, IMAGE_SIZE, 3), seed=32),\n",
        "        layers.RandomRotation(factor=(-0.1, 0.1), seed=42),\n",
        "        layers.RandomZoom(height_factor=(-0.1, 0.1), width_factor=(-0.1, 0.1), seed=42),\n",
        "        layers.RandomTranslation(height_factor=(-0.05, 0.05), width_factor=(-0.05, 0.05), seed=32)\n",
        "    ])\n",
        "\n",
        "    base_model = resnet50.ResNet50(\n",
        "        weights=\"imagenet\",\n",
        "        include_top=False\n",
        "    )\n",
        "\n",
        "    image_input = layers.Input(shape=(IMAGE_SIZE, IMAGE_SIZE, 3), name=\"image\")\n",
        "    x = data_augmentation(image_input)\n",
        "    x = resnet50.preprocess_input(x)\n",
        "    x = base_model(x, training=False)\n",
        "    x = layers.Dropout(0.5)(x)\n",
        "    x = layers.Dense(256, activation=\"relu\")(x)\n",
        "    x = layers.Dropout(0.5)(x)\n",
        "    x = layers.Dense(128, activation=\"relu\")(x)\n",
        "    x = layers.GlobalAveragePooling2D()(x)\n",
        "    x = layers.Dropout(0.5)(x)\n",
        "\n",
        "    outputs = layers.Dense(num_classes, activation=\"softmax\")(x)\n",
        "    model = Model(inputs=image_input, outputs=outputs)\n",
        "\n",
        "    print(model.summary())\n",
        "\n",
        "    return model"
      ],
      "execution_count": 5,
      "outputs": []
    },
    {
      "cell_type": "code",
      "metadata": {
        "id": "FNzCk4xJdelP"
      },
      "source": [
        "train_set, val_set, num_classes = _datasets(TRAIN_DATA)"
      ],
      "execution_count": 6,
      "outputs": []
    },
    {
      "cell_type": "code",
      "metadata": {
        "colab": {
          "base_uri": "https://localhost:8080/"
        },
        "id": "xomXBY_VdelQ",
        "outputId": "e68b807b-5ff5-4e2e-94df-d8fe2891d669"
      },
      "source": [
        "model = _model(num_classes)"
      ],
      "execution_count": 7,
      "outputs": [
        {
          "output_type": "stream",
          "name": "stdout",
          "text": [
            "Model: \"model\"\n",
            "_________________________________________________________________\n",
            " Layer (type)                Output Shape              Param #   \n",
            "=================================================================\n",
            " image (InputLayer)          [(None, 128, 128, 3)]     0         \n",
            "                                                                 \n",
            " sequential (Sequential)     (None, 128, 128, 3)       0         \n",
            "                                                                 \n",
            " tf.__operators__.getitem (S  (None, 128, 128, 3)      0         \n",
            " licingOpLambda)                                                 \n",
            "                                                                 \n",
            " tf.nn.bias_add (TFOpLambda)  (None, 128, 128, 3)      0         \n",
            "                                                                 \n",
            " resnet50 (Functional)       (None, None, None, 2048)  23587712  \n",
            "                                                                 \n",
            " dropout (Dropout)           (None, 4, 4, 2048)        0         \n",
            "                                                                 \n",
            " dense (Dense)               (None, 4, 4, 256)         524544    \n",
            "                                                                 \n",
            " dropout_1 (Dropout)         (None, 4, 4, 256)         0         \n",
            "                                                                 \n",
            " dense_1 (Dense)             (None, 4, 4, 128)         32896     \n",
            "                                                                 \n",
            " global_average_pooling2d (G  (None, 128)              0         \n",
            " lobalAveragePooling2D)                                          \n",
            "                                                                 \n",
            " dropout_2 (Dropout)         (None, 128)               0         \n",
            "                                                                 \n",
            " dense_2 (Dense)             (None, 5)                 645       \n",
            "                                                                 \n",
            "=================================================================\n",
            "Total params: 24,145,797\n",
            "Trainable params: 24,092,677\n",
            "Non-trainable params: 53,120\n",
            "_________________________________________________________________\n",
            "None\n"
          ]
        }
      ]
    },
    {
      "cell_type": "code",
      "metadata": {
        "id": "sElhHUYXdelR"
      },
      "source": [
        "model.compile(optimizer=optimizers.Adam(), \n",
        "            loss=\"categorical_crossentropy\",\n",
        "            metrics=[\"accuracy\"]\n",
        ")"
      ],
      "execution_count": 8,
      "outputs": []
    },
    {
      "cell_type": "code",
      "metadata": {
        "colab": {
          "base_uri": "https://localhost:8080/"
        },
        "id": "o38clfKEdelR",
        "outputId": "88c5cbba-133f-43ee-c149-553307b59683"
      },
      "source": [
        "model.fit(train_set, validation_data=val_set, epochs = EPOCHS, verbose=1)"
      ],
      "execution_count": 9,
      "outputs": [
        {
          "output_type": "stream",
          "name": "stdout",
          "text": [
            "Epoch 1/10\n",
            "68/68 [==============================] - 40s 434ms/step - loss: 1.9530 - accuracy: 0.2325 - val_loss: 1.6105 - val_accuracy: 0.1908\n",
            "Epoch 2/10\n",
            "68/68 [==============================] - 28s 410ms/step - loss: 1.6128 - accuracy: 0.2381 - val_loss: 1.6080 - val_accuracy: 0.2055\n",
            "Epoch 3/10\n",
            "68/68 [==============================] - 28s 409ms/step - loss: 1.6055 - accuracy: 0.2353 - val_loss: 1.6015 - val_accuracy: 0.2055\n",
            "Epoch 4/10\n",
            "68/68 [==============================] - 28s 408ms/step - loss: 1.5684 - accuracy: 0.2707 - val_loss: 1.5393 - val_accuracy: 0.2771\n",
            "Epoch 5/10\n",
            "68/68 [==============================] - 28s 408ms/step - loss: 1.8542 - accuracy: 0.2298 - val_loss: 1.6090 - val_accuracy: 0.1982\n",
            "Epoch 6/10\n",
            "68/68 [==============================] - 28s 409ms/step - loss: 1.6066 - accuracy: 0.2390 - val_loss: 1.6081 - val_accuracy: 0.2092\n",
            "Epoch 7/10\n",
            "68/68 [==============================] - 28s 408ms/step - loss: 1.6036 - accuracy: 0.2376 - val_loss: 1.6098 - val_accuracy: 0.1945\n",
            "Epoch 8/10\n",
            "68/68 [==============================] - 28s 409ms/step - loss: 1.6037 - accuracy: 0.2486 - val_loss: 1.6069 - val_accuracy: 0.2165\n",
            "Epoch 9/10\n",
            "68/68 [==============================] - 28s 408ms/step - loss: 1.6031 - accuracy: 0.2390 - val_loss: 1.6060 - val_accuracy: 0.2092\n",
            "Epoch 10/10\n",
            "68/68 [==============================] - 28s 408ms/step - loss: 1.5946 - accuracy: 0.2684 - val_loss: 1.6132 - val_accuracy: 0.2018\n"
          ]
        },
        {
          "output_type": "execute_result",
          "data": {
            "text/plain": [
              "<keras.callbacks.History at 0x7f8313626d10>"
            ]
          },
          "metadata": {},
          "execution_count": 9
        }
      ]
    }
  ]
}